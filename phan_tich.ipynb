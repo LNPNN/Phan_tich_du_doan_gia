{
  "cells": [
    {
      "cell_type": "code",
      "execution_count": null,
      "metadata": {
        "colab": {
          "base_uri": "https://localhost:8080/"
        },
        "id": "2_oOXFqNFLnV",
        "outputId": "72d8f923-e572-4f9c-c7a4-6950ced62224"
      },
      "outputs": [
        {
          "output_type": "stream",
          "name": "stdout",
          "text": [
            "Requirement already satisfied: plotly in /usr/local/lib/python3.10/dist-packages (5.15.0)\n",
            "Requirement already satisfied: tenacity>=6.2.0 in /usr/local/lib/python3.10/dist-packages (from plotly) (8.2.3)\n",
            "Requirement already satisfied: packaging in /usr/local/lib/python3.10/dist-packages (from plotly) (23.2)\n",
            "Collecting dash\n",
            "  Downloading dash-2.14.2-py3-none-any.whl (10.2 MB)\n",
            "\u001b[2K     \u001b[90m━━━━━━━━━━━━━━━━━━━━━━━━━━━━━━━━━━━━━━━━\u001b[0m \u001b[32m10.2/10.2 MB\u001b[0m \u001b[31m17.4 MB/s\u001b[0m eta \u001b[36m0:00:00\u001b[0m\n",
            "\u001b[?25hRequirement already satisfied: Flask<3.1,>=1.0.4 in /usr/local/lib/python3.10/dist-packages (from dash) (2.2.5)\n",
            "Requirement already satisfied: Werkzeug<3.1 in /usr/local/lib/python3.10/dist-packages (from dash) (3.0.1)\n",
            "Requirement already satisfied: plotly>=5.0.0 in /usr/local/lib/python3.10/dist-packages (from dash) (5.15.0)\n",
            "Collecting dash-html-components==2.0.0 (from dash)\n",
            "  Downloading dash_html_components-2.0.0-py3-none-any.whl (4.1 kB)\n",
            "Collecting dash-core-components==2.0.0 (from dash)\n",
            "  Downloading dash_core_components-2.0.0-py3-none-any.whl (3.8 kB)\n",
            "Collecting dash-table==5.0.0 (from dash)\n",
            "  Downloading dash_table-5.0.0-py3-none-any.whl (3.9 kB)\n",
            "Requirement already satisfied: typing-extensions>=4.1.1 in /usr/local/lib/python3.10/dist-packages (from dash) (4.5.0)\n",
            "Requirement already satisfied: requests in /usr/local/lib/python3.10/dist-packages (from dash) (2.31.0)\n",
            "Collecting retrying (from dash)\n",
            "  Downloading retrying-1.3.4-py3-none-any.whl (11 kB)\n",
            "Collecting ansi2html (from dash)\n",
            "  Downloading ansi2html-1.9.1-py3-none-any.whl (17 kB)\n",
            "Requirement already satisfied: nest-asyncio in /usr/local/lib/python3.10/dist-packages (from dash) (1.5.8)\n",
            "Requirement already satisfied: setuptools in /usr/local/lib/python3.10/dist-packages (from dash) (67.7.2)\n",
            "Requirement already satisfied: importlib-metadata in /usr/local/lib/python3.10/dist-packages (from dash) (7.0.0)\n",
            "Requirement already satisfied: Jinja2>=3.0 in /usr/local/lib/python3.10/dist-packages (from Flask<3.1,>=1.0.4->dash) (3.1.2)\n",
            "Requirement already satisfied: itsdangerous>=2.0 in /usr/local/lib/python3.10/dist-packages (from Flask<3.1,>=1.0.4->dash) (2.1.2)\n",
            "Requirement already satisfied: click>=8.0 in /usr/local/lib/python3.10/dist-packages (from Flask<3.1,>=1.0.4->dash) (8.1.7)\n",
            "Requirement already satisfied: tenacity>=6.2.0 in /usr/local/lib/python3.10/dist-packages (from plotly>=5.0.0->dash) (8.2.3)\n",
            "Requirement already satisfied: packaging in /usr/local/lib/python3.10/dist-packages (from plotly>=5.0.0->dash) (23.2)\n",
            "Requirement already satisfied: MarkupSafe>=2.1.1 in /usr/local/lib/python3.10/dist-packages (from Werkzeug<3.1->dash) (2.1.3)\n",
            "Requirement already satisfied: zipp>=0.5 in /usr/local/lib/python3.10/dist-packages (from importlib-metadata->dash) (3.17.0)\n",
            "Requirement already satisfied: charset-normalizer<4,>=2 in /usr/local/lib/python3.10/dist-packages (from requests->dash) (3.3.2)\n",
            "Requirement already satisfied: idna<4,>=2.5 in /usr/local/lib/python3.10/dist-packages (from requests->dash) (3.6)\n",
            "Requirement already satisfied: urllib3<3,>=1.21.1 in /usr/local/lib/python3.10/dist-packages (from requests->dash) (2.0.7)\n",
            "Requirement already satisfied: certifi>=2017.4.17 in /usr/local/lib/python3.10/dist-packages (from requests->dash) (2023.11.17)\n",
            "Requirement already satisfied: six>=1.7.0 in /usr/local/lib/python3.10/dist-packages (from retrying->dash) (1.16.0)\n",
            "Installing collected packages: dash-table, dash-html-components, dash-core-components, retrying, ansi2html, dash\n",
            "Successfully installed ansi2html-1.9.1 dash-2.14.2 dash-core-components-2.0.0 dash-html-components-2.0.0 dash-table-5.0.0 retrying-1.3.4\n",
            "Requirement already satisfied: seaborn in /usr/local/lib/python3.10/dist-packages (0.12.2)\n",
            "Requirement already satisfied: matplotlib in /usr/local/lib/python3.10/dist-packages (3.7.1)\n",
            "Requirement already satisfied: numpy!=1.24.0,>=1.17 in /usr/local/lib/python3.10/dist-packages (from seaborn) (1.23.5)\n",
            "Requirement already satisfied: pandas>=0.25 in /usr/local/lib/python3.10/dist-packages (from seaborn) (1.5.3)\n",
            "Requirement already satisfied: contourpy>=1.0.1 in /usr/local/lib/python3.10/dist-packages (from matplotlib) (1.2.0)\n",
            "Requirement already satisfied: cycler>=0.10 in /usr/local/lib/python3.10/dist-packages (from matplotlib) (0.12.1)\n",
            "Requirement already satisfied: fonttools>=4.22.0 in /usr/local/lib/python3.10/dist-packages (from matplotlib) (4.46.0)\n",
            "Requirement already satisfied: kiwisolver>=1.0.1 in /usr/local/lib/python3.10/dist-packages (from matplotlib) (1.4.5)\n",
            "Requirement already satisfied: packaging>=20.0 in /usr/local/lib/python3.10/dist-packages (from matplotlib) (23.2)\n",
            "Requirement already satisfied: pillow>=6.2.0 in /usr/local/lib/python3.10/dist-packages (from matplotlib) (9.4.0)\n",
            "Requirement already satisfied: pyparsing>=2.3.1 in /usr/local/lib/python3.10/dist-packages (from matplotlib) (3.1.1)\n",
            "Requirement already satisfied: python-dateutil>=2.7 in /usr/local/lib/python3.10/dist-packages (from matplotlib) (2.8.2)\n",
            "Requirement already satisfied: pytz>=2020.1 in /usr/local/lib/python3.10/dist-packages (from pandas>=0.25->seaborn) (2023.3.post1)\n",
            "Requirement already satisfied: six>=1.5 in /usr/local/lib/python3.10/dist-packages (from python-dateutil>=2.7->matplotlib) (1.16.0)\n",
            "Requirement already satisfied: scipy in /usr/local/lib/python3.10/dist-packages (1.11.4)\n",
            "Requirement already satisfied: numpy<1.28.0,>=1.21.6 in /usr/local/lib/python3.10/dist-packages (from scipy) (1.23.5)\n",
            "Requirement already satisfied: plotly in /usr/local/lib/python3.10/dist-packages (5.15.0)\n",
            "Requirement already satisfied: dash in /usr/local/lib/python3.10/dist-packages (2.14.2)\n",
            "Requirement already satisfied: seaborn in /usr/local/lib/python3.10/dist-packages (0.12.2)\n",
            "Requirement already satisfied: matplotlib in /usr/local/lib/python3.10/dist-packages (3.7.1)\n",
            "Requirement already satisfied: scipy in /usr/local/lib/python3.10/dist-packages (1.11.4)\n",
            "Requirement already satisfied: gdown in /usr/local/lib/python3.10/dist-packages (4.6.6)\n",
            "Requirement already satisfied: tenacity>=6.2.0 in /usr/local/lib/python3.10/dist-packages (from plotly) (8.2.3)\n",
            "Requirement already satisfied: packaging in /usr/local/lib/python3.10/dist-packages (from plotly) (23.2)\n",
            "Requirement already satisfied: Flask<3.1,>=1.0.4 in /usr/local/lib/python3.10/dist-packages (from dash) (2.2.5)\n",
            "Requirement already satisfied: Werkzeug<3.1 in /usr/local/lib/python3.10/dist-packages (from dash) (3.0.1)\n",
            "Requirement already satisfied: dash-html-components==2.0.0 in /usr/local/lib/python3.10/dist-packages (from dash) (2.0.0)\n",
            "Requirement already satisfied: dash-core-components==2.0.0 in /usr/local/lib/python3.10/dist-packages (from dash) (2.0.0)\n",
            "Requirement already satisfied: dash-table==5.0.0 in /usr/local/lib/python3.10/dist-packages (from dash) (5.0.0)\n",
            "Requirement already satisfied: typing-extensions>=4.1.1 in /usr/local/lib/python3.10/dist-packages (from dash) (4.5.0)\n",
            "Requirement already satisfied: requests in /usr/local/lib/python3.10/dist-packages (from dash) (2.31.0)\n",
            "Requirement already satisfied: retrying in /usr/local/lib/python3.10/dist-packages (from dash) (1.3.4)\n",
            "Requirement already satisfied: ansi2html in /usr/local/lib/python3.10/dist-packages (from dash) (1.9.1)\n",
            "Requirement already satisfied: nest-asyncio in /usr/local/lib/python3.10/dist-packages (from dash) (1.5.8)\n",
            "Requirement already satisfied: setuptools in /usr/local/lib/python3.10/dist-packages (from dash) (67.7.2)\n",
            "Requirement already satisfied: importlib-metadata in /usr/local/lib/python3.10/dist-packages (from dash) (7.0.0)\n",
            "Requirement already satisfied: numpy!=1.24.0,>=1.17 in /usr/local/lib/python3.10/dist-packages (from seaborn) (1.23.5)\n",
            "Requirement already satisfied: pandas>=0.25 in /usr/local/lib/python3.10/dist-packages (from seaborn) (1.5.3)\n",
            "Requirement already satisfied: contourpy>=1.0.1 in /usr/local/lib/python3.10/dist-packages (from matplotlib) (1.2.0)\n",
            "Requirement already satisfied: cycler>=0.10 in /usr/local/lib/python3.10/dist-packages (from matplotlib) (0.12.1)\n",
            "Requirement already satisfied: fonttools>=4.22.0 in /usr/local/lib/python3.10/dist-packages (from matplotlib) (4.46.0)\n",
            "Requirement already satisfied: kiwisolver>=1.0.1 in /usr/local/lib/python3.10/dist-packages (from matplotlib) (1.4.5)\n",
            "Requirement already satisfied: pillow>=6.2.0 in /usr/local/lib/python3.10/dist-packages (from matplotlib) (9.4.0)\n",
            "Requirement already satisfied: pyparsing>=2.3.1 in /usr/local/lib/python3.10/dist-packages (from matplotlib) (3.1.1)\n",
            "Requirement already satisfied: python-dateutil>=2.7 in /usr/local/lib/python3.10/dist-packages (from matplotlib) (2.8.2)\n",
            "Requirement already satisfied: filelock in /usr/local/lib/python3.10/dist-packages (from gdown) (3.13.1)\n",
            "Requirement already satisfied: six in /usr/local/lib/python3.10/dist-packages (from gdown) (1.16.0)\n",
            "Requirement already satisfied: tqdm in /usr/local/lib/python3.10/dist-packages (from gdown) (4.66.1)\n",
            "Requirement already satisfied: beautifulsoup4 in /usr/local/lib/python3.10/dist-packages (from gdown) (4.11.2)\n",
            "Requirement already satisfied: Jinja2>=3.0 in /usr/local/lib/python3.10/dist-packages (from Flask<3.1,>=1.0.4->dash) (3.1.2)\n",
            "Requirement already satisfied: itsdangerous>=2.0 in /usr/local/lib/python3.10/dist-packages (from Flask<3.1,>=1.0.4->dash) (2.1.2)\n",
            "Requirement already satisfied: click>=8.0 in /usr/local/lib/python3.10/dist-packages (from Flask<3.1,>=1.0.4->dash) (8.1.7)\n",
            "Requirement already satisfied: pytz>=2020.1 in /usr/local/lib/python3.10/dist-packages (from pandas>=0.25->seaborn) (2023.3.post1)\n",
            "Requirement already satisfied: MarkupSafe>=2.1.1 in /usr/local/lib/python3.10/dist-packages (from Werkzeug<3.1->dash) (2.1.3)\n",
            "Requirement already satisfied: soupsieve>1.2 in /usr/local/lib/python3.10/dist-packages (from beautifulsoup4->gdown) (2.5)\n",
            "Requirement already satisfied: zipp>=0.5 in /usr/local/lib/python3.10/dist-packages (from importlib-metadata->dash) (3.17.0)\n",
            "Requirement already satisfied: charset-normalizer<4,>=2 in /usr/local/lib/python3.10/dist-packages (from requests->dash) (3.3.2)\n",
            "Requirement already satisfied: idna<4,>=2.5 in /usr/local/lib/python3.10/dist-packages (from requests->dash) (3.6)\n",
            "Requirement already satisfied: urllib3<3,>=1.21.1 in /usr/local/lib/python3.10/dist-packages (from requests->dash) (2.0.7)\n",
            "Requirement already satisfied: certifi>=2017.4.17 in /usr/local/lib/python3.10/dist-packages (from requests->dash) (2023.11.17)\n",
            "Requirement already satisfied: PySocks!=1.5.7,>=1.5.6 in /usr/local/lib/python3.10/dist-packages (from requests->dash) (1.7.1)\n"
          ]
        }
      ],
      "source": [
        "!pip install plotly\n",
        "!pip install dash\n",
        "!pip install seaborn matplotlib\n",
        "!pip install scipy\n",
        "!pip install plotly dash seaborn matplotlib scipy gdown"
      ]
    },
    {
      "cell_type": "code",
      "execution_count": null,
      "metadata": {
        "id": "zNReBWyhMXrW"
      },
      "outputs": [],
      "source": [
        "import pandas as pd\n",
        "import numpy as np\n",
        "import gdown as gd\n",
        "import seaborn as sns\n",
        "import matplotlib.pyplot as plt\n",
        "import scipy.stats as stats\n",
        "import dash\n",
        "from dash import dcc, html\n",
        "import plotly.express as px\n",
        "\n"
      ]
    },
    {
      "cell_type": "code",
      "execution_count": null,
      "metadata": {
        "id": "dMmpwv1VHwM0",
        "colab": {
          "base_uri": "https://localhost:8080/"
        },
        "outputId": "b13981f4-909b-4861-e5ca-0cbbea489e45"
      },
      "outputs": [
        {
          "output_type": "stream",
          "name": "stdout",
          "text": [
            "Drive already mounted at /content/drive; to attempt to forcibly remount, call drive.mount(\"/content/drive\", force_remount=True).\n"
          ]
        }
      ],
      "source": [
        "from google.colab import drive\n",
        "drive.mount('/content/drive')\n",
        "import pandas as pd\n",
        "\n",
        "file_path = '/content/drive/My Drive/Phân tích DL/Dữ liệu/dữ liệu qua xử lý.csv' # Thay đổi đường dẫn đến tệp CSV của bạn\n",
        "df = pd.read_csv(file_path)\n"
      ]
    },
    {
      "cell_type": "code",
      "execution_count": null,
      "metadata": {
        "colab": {
          "base_uri": "https://localhost:8080/",
          "height": 206
        },
        "id": "VI_jwkiQxts3",
        "outputId": "3468187a-d610-4719-ebbb-93cfdfff6691"
      },
      "outputs": [
        {
          "data": {
            "text/html": [
              "\n",
              "  <div id=\"df-3aa487a0-fb32-4beb-b518-fb5c499c1e5e\" class=\"colab-df-container\">\n",
              "    <div>\n",
              "<style scoped>\n",
              "    .dataframe tbody tr th:only-of-type {\n",
              "        vertical-align: middle;\n",
              "    }\n",
              "\n",
              "    .dataframe tbody tr th {\n",
              "        vertical-align: top;\n",
              "    }\n",
              "\n",
              "    .dataframe thead th {\n",
              "        text-align: right;\n",
              "    }\n",
              "</style>\n",
              "<table border=\"1\" class=\"dataframe\">\n",
              "  <thead>\n",
              "    <tr style=\"text-align: right;\">\n",
              "      <th></th>\n",
              "      <th>pc_brand</th>\n",
              "      <th>pc_model</th>\n",
              "      <th>elt_condition</th>\n",
              "      <th>laptop_screen_size</th>\n",
              "      <th>elt_warranty</th>\n",
              "      <th>pc_cpu</th>\n",
              "      <th>pc_ram</th>\n",
              "      <th>pc_drive_capacity</th>\n",
              "      <th>elt_origin</th>\n",
              "      <th>pc_vga</th>\n",
              "      <th>price</th>\n",
              "    </tr>\n",
              "  </thead>\n",
              "  <tbody>\n",
              "    <tr>\n",
              "      <th>934</th>\n",
              "      <td>Hãng khác</td>\n",
              "      <td>Dòng Khác</td>\n",
              "      <td>Đã sử dụng (chưa sửa chữa)</td>\n",
              "      <td>15 - 16.9 inch</td>\n",
              "      <td>1 tháng</td>\n",
              "      <td>Intel Core i5</td>\n",
              "      <td>4</td>\n",
              "      <td>500</td>\n",
              "      <td>Việt Nam</td>\n",
              "      <td>Onboard</td>\n",
              "      <td>2490000</td>\n",
              "    </tr>\n",
              "    <tr>\n",
              "      <th>935</th>\n",
              "      <td>Lenovo</td>\n",
              "      <td>ThinkPad</td>\n",
              "      <td>Đã sử dụng (chưa sửa chữa)</td>\n",
              "      <td>13 - 14.9 inch</td>\n",
              "      <td>4-6 tháng</td>\n",
              "      <td>Intel Core i7</td>\n",
              "      <td>16</td>\n",
              "      <td>256</td>\n",
              "      <td>Mỹ</td>\n",
              "      <td>NVIDIA</td>\n",
              "      <td>8600000</td>\n",
              "    </tr>\n",
              "    <tr>\n",
              "      <th>936</th>\n",
              "      <td>Apple</td>\n",
              "      <td>MacBook Pro</td>\n",
              "      <td>Đã sử dụng (chưa sửa chữa)</td>\n",
              "      <td>15 - 16.9 inch</td>\n",
              "      <td>3 tháng</td>\n",
              "      <td>Intel Core i7</td>\n",
              "      <td>16</td>\n",
              "      <td>256</td>\n",
              "      <td>Mỹ</td>\n",
              "      <td>AMD</td>\n",
              "      <td>14500000</td>\n",
              "    </tr>\n",
              "    <tr>\n",
              "      <th>937</th>\n",
              "      <td>Dell</td>\n",
              "      <td>Precision</td>\n",
              "      <td>Mới</td>\n",
              "      <td>15 - 16.9 inch</td>\n",
              "      <td>3 tháng</td>\n",
              "      <td>Intel Core i7</td>\n",
              "      <td>16</td>\n",
              "      <td>512</td>\n",
              "      <td>Mỹ</td>\n",
              "      <td>NVIDIA</td>\n",
              "      <td>14900000</td>\n",
              "    </tr>\n",
              "    <tr>\n",
              "      <th>938</th>\n",
              "      <td>Apple</td>\n",
              "      <td>MacBook Pro</td>\n",
              "      <td>Đã sử dụng (chưa sửa chữa)</td>\n",
              "      <td>13 - 14.9 inch</td>\n",
              "      <td>1 tháng</td>\n",
              "      <td>Intel Core i5</td>\n",
              "      <td>8</td>\n",
              "      <td>128</td>\n",
              "      <td>Mỹ</td>\n",
              "      <td>Khác</td>\n",
              "      <td>8390000</td>\n",
              "    </tr>\n",
              "  </tbody>\n",
              "</table>\n",
              "</div>\n",
              "    <div class=\"colab-df-buttons\">\n",
              "\n",
              "  <div class=\"colab-df-container\">\n",
              "    <button class=\"colab-df-convert\" onclick=\"convertToInteractive('df-3aa487a0-fb32-4beb-b518-fb5c499c1e5e')\"\n",
              "            title=\"Convert this dataframe to an interactive table.\"\n",
              "            style=\"display:none;\">\n",
              "\n",
              "  <svg xmlns=\"http://www.w3.org/2000/svg\" height=\"24px\" viewBox=\"0 -960 960 960\">\n",
              "    <path d=\"M120-120v-720h720v720H120Zm60-500h600v-160H180v160Zm220 220h160v-160H400v160Zm0 220h160v-160H400v160ZM180-400h160v-160H180v160Zm440 0h160v-160H620v160ZM180-180h160v-160H180v160Zm440 0h160v-160H620v160Z\"/>\n",
              "  </svg>\n",
              "    </button>\n",
              "\n",
              "  <style>\n",
              "    .colab-df-container {\n",
              "      display:flex;\n",
              "      gap: 12px;\n",
              "    }\n",
              "\n",
              "    .colab-df-convert {\n",
              "      background-color: #E8F0FE;\n",
              "      border: none;\n",
              "      border-radius: 50%;\n",
              "      cursor: pointer;\n",
              "      display: none;\n",
              "      fill: #1967D2;\n",
              "      height: 32px;\n",
              "      padding: 0 0 0 0;\n",
              "      width: 32px;\n",
              "    }\n",
              "\n",
              "    .colab-df-convert:hover {\n",
              "      background-color: #E2EBFA;\n",
              "      box-shadow: 0px 1px 2px rgba(60, 64, 67, 0.3), 0px 1px 3px 1px rgba(60, 64, 67, 0.15);\n",
              "      fill: #174EA6;\n",
              "    }\n",
              "\n",
              "    .colab-df-buttons div {\n",
              "      margin-bottom: 4px;\n",
              "    }\n",
              "\n",
              "    [theme=dark] .colab-df-convert {\n",
              "      background-color: #3B4455;\n",
              "      fill: #D2E3FC;\n",
              "    }\n",
              "\n",
              "    [theme=dark] .colab-df-convert:hover {\n",
              "      background-color: #434B5C;\n",
              "      box-shadow: 0px 1px 3px 1px rgba(0, 0, 0, 0.15);\n",
              "      filter: drop-shadow(0px 1px 2px rgba(0, 0, 0, 0.3));\n",
              "      fill: #FFFFFF;\n",
              "    }\n",
              "  </style>\n",
              "\n",
              "    <script>\n",
              "      const buttonEl =\n",
              "        document.querySelector('#df-3aa487a0-fb32-4beb-b518-fb5c499c1e5e button.colab-df-convert');\n",
              "      buttonEl.style.display =\n",
              "        google.colab.kernel.accessAllowed ? 'block' : 'none';\n",
              "\n",
              "      async function convertToInteractive(key) {\n",
              "        const element = document.querySelector('#df-3aa487a0-fb32-4beb-b518-fb5c499c1e5e');\n",
              "        const dataTable =\n",
              "          await google.colab.kernel.invokeFunction('convertToInteractive',\n",
              "                                                    [key], {});\n",
              "        if (!dataTable) return;\n",
              "\n",
              "        const docLinkHtml = 'Like what you see? Visit the ' +\n",
              "          '<a target=\"_blank\" href=https://colab.research.google.com/notebooks/data_table.ipynb>data table notebook</a>'\n",
              "          + ' to learn more about interactive tables.';\n",
              "        element.innerHTML = '';\n",
              "        dataTable['output_type'] = 'display_data';\n",
              "        await google.colab.output.renderOutput(dataTable, element);\n",
              "        const docLink = document.createElement('div');\n",
              "        docLink.innerHTML = docLinkHtml;\n",
              "        element.appendChild(docLink);\n",
              "      }\n",
              "    </script>\n",
              "  </div>\n",
              "\n",
              "\n",
              "<div id=\"df-92e64869-945a-4a6d-8b1e-7431b5606ada\">\n",
              "  <button class=\"colab-df-quickchart\" onclick=\"quickchart('df-92e64869-945a-4a6d-8b1e-7431b5606ada')\"\n",
              "            title=\"Suggest charts\"\n",
              "            style=\"display:none;\">\n",
              "\n",
              "<svg xmlns=\"http://www.w3.org/2000/svg\" height=\"24px\"viewBox=\"0 0 24 24\"\n",
              "     width=\"24px\">\n",
              "    <g>\n",
              "        <path d=\"M19 3H5c-1.1 0-2 .9-2 2v14c0 1.1.9 2 2 2h14c1.1 0 2-.9 2-2V5c0-1.1-.9-2-2-2zM9 17H7v-7h2v7zm4 0h-2V7h2v10zm4 0h-2v-4h2v4z\"/>\n",
              "    </g>\n",
              "</svg>\n",
              "  </button>\n",
              "\n",
              "<style>\n",
              "  .colab-df-quickchart {\n",
              "      --bg-color: #E8F0FE;\n",
              "      --fill-color: #1967D2;\n",
              "      --hover-bg-color: #E2EBFA;\n",
              "      --hover-fill-color: #174EA6;\n",
              "      --disabled-fill-color: #AAA;\n",
              "      --disabled-bg-color: #DDD;\n",
              "  }\n",
              "\n",
              "  [theme=dark] .colab-df-quickchart {\n",
              "      --bg-color: #3B4455;\n",
              "      --fill-color: #D2E3FC;\n",
              "      --hover-bg-color: #434B5C;\n",
              "      --hover-fill-color: #FFFFFF;\n",
              "      --disabled-bg-color: #3B4455;\n",
              "      --disabled-fill-color: #666;\n",
              "  }\n",
              "\n",
              "  .colab-df-quickchart {\n",
              "    background-color: var(--bg-color);\n",
              "    border: none;\n",
              "    border-radius: 50%;\n",
              "    cursor: pointer;\n",
              "    display: none;\n",
              "    fill: var(--fill-color);\n",
              "    height: 32px;\n",
              "    padding: 0;\n",
              "    width: 32px;\n",
              "  }\n",
              "\n",
              "  .colab-df-quickchart:hover {\n",
              "    background-color: var(--hover-bg-color);\n",
              "    box-shadow: 0 1px 2px rgba(60, 64, 67, 0.3), 0 1px 3px 1px rgba(60, 64, 67, 0.15);\n",
              "    fill: var(--button-hover-fill-color);\n",
              "  }\n",
              "\n",
              "  .colab-df-quickchart-complete:disabled,\n",
              "  .colab-df-quickchart-complete:disabled:hover {\n",
              "    background-color: var(--disabled-bg-color);\n",
              "    fill: var(--disabled-fill-color);\n",
              "    box-shadow: none;\n",
              "  }\n",
              "\n",
              "  .colab-df-spinner {\n",
              "    border: 2px solid var(--fill-color);\n",
              "    border-color: transparent;\n",
              "    border-bottom-color: var(--fill-color);\n",
              "    animation:\n",
              "      spin 1s steps(1) infinite;\n",
              "  }\n",
              "\n",
              "  @keyframes spin {\n",
              "    0% {\n",
              "      border-color: transparent;\n",
              "      border-bottom-color: var(--fill-color);\n",
              "      border-left-color: var(--fill-color);\n",
              "    }\n",
              "    20% {\n",
              "      border-color: transparent;\n",
              "      border-left-color: var(--fill-color);\n",
              "      border-top-color: var(--fill-color);\n",
              "    }\n",
              "    30% {\n",
              "      border-color: transparent;\n",
              "      border-left-color: var(--fill-color);\n",
              "      border-top-color: var(--fill-color);\n",
              "      border-right-color: var(--fill-color);\n",
              "    }\n",
              "    40% {\n",
              "      border-color: transparent;\n",
              "      border-right-color: var(--fill-color);\n",
              "      border-top-color: var(--fill-color);\n",
              "    }\n",
              "    60% {\n",
              "      border-color: transparent;\n",
              "      border-right-color: var(--fill-color);\n",
              "    }\n",
              "    80% {\n",
              "      border-color: transparent;\n",
              "      border-right-color: var(--fill-color);\n",
              "      border-bottom-color: var(--fill-color);\n",
              "    }\n",
              "    90% {\n",
              "      border-color: transparent;\n",
              "      border-bottom-color: var(--fill-color);\n",
              "    }\n",
              "  }\n",
              "</style>\n",
              "\n",
              "  <script>\n",
              "    async function quickchart(key) {\n",
              "      const quickchartButtonEl =\n",
              "        document.querySelector('#' + key + ' button');\n",
              "      quickchartButtonEl.disabled = true;  // To prevent multiple clicks.\n",
              "      quickchartButtonEl.classList.add('colab-df-spinner');\n",
              "      try {\n",
              "        const charts = await google.colab.kernel.invokeFunction(\n",
              "            'suggestCharts', [key], {});\n",
              "      } catch (error) {\n",
              "        console.error('Error during call to suggestCharts:', error);\n",
              "      }\n",
              "      quickchartButtonEl.classList.remove('colab-df-spinner');\n",
              "      quickchartButtonEl.classList.add('colab-df-quickchart-complete');\n",
              "    }\n",
              "    (() => {\n",
              "      let quickchartButtonEl =\n",
              "        document.querySelector('#df-92e64869-945a-4a6d-8b1e-7431b5606ada button');\n",
              "      quickchartButtonEl.style.display =\n",
              "        google.colab.kernel.accessAllowed ? 'block' : 'none';\n",
              "    })();\n",
              "  </script>\n",
              "</div>\n",
              "    </div>\n",
              "  </div>\n"
            ],
            "text/plain": [
              "      pc_brand     pc_model               elt_condition laptop_screen_size  \\\n",
              "934  Hãng khác    Dòng Khác  Đã sử dụng (chưa sửa chữa)     15 - 16.9 inch   \n",
              "935     Lenovo     ThinkPad  Đã sử dụng (chưa sửa chữa)     13 - 14.9 inch   \n",
              "936      Apple  MacBook Pro  Đã sử dụng (chưa sửa chữa)     15 - 16.9 inch   \n",
              "937       Dell    Precision                         Mới     15 - 16.9 inch   \n",
              "938      Apple  MacBook Pro  Đã sử dụng (chưa sửa chữa)     13 - 14.9 inch   \n",
              "\n",
              "    elt_warranty         pc_cpu  pc_ram  pc_drive_capacity elt_origin  \\\n",
              "934      1 tháng  Intel Core i5       4                500   Việt Nam   \n",
              "935    4-6 tháng  Intel Core i7      16                256         Mỹ   \n",
              "936      3 tháng  Intel Core i7      16                256         Mỹ   \n",
              "937      3 tháng  Intel Core i7      16                512         Mỹ   \n",
              "938      1 tháng  Intel Core i5       8                128         Mỹ   \n",
              "\n",
              "      pc_vga     price  \n",
              "934  Onboard   2490000  \n",
              "935   NVIDIA   8600000  \n",
              "936      AMD  14500000  \n",
              "937   NVIDIA  14900000  \n",
              "938     Khác   8390000  "
            ]
          },
          "execution_count": 5,
          "metadata": {},
          "output_type": "execute_result"
        }
      ],
      "source": [
        "df.tail()"
      ]
    },
    {
      "cell_type": "code",
      "execution_count": null,
      "metadata": {
        "colab": {
          "base_uri": "https://localhost:8080/"
        },
        "id": "uI-Z8osDxulj",
        "outputId": "11ee3843-15bb-4030-de8d-38810f448da0"
      },
      "outputs": [
        {
          "data": {
            "text/plain": [
              "pc_brand              0\n",
              "pc_model              0\n",
              "elt_condition         0\n",
              "laptop_screen_size    0\n",
              "elt_warranty          0\n",
              "pc_cpu                0\n",
              "pc_ram                0\n",
              "pc_drive_capacity     0\n",
              "elt_origin            0\n",
              "pc_vga                0\n",
              "price                 0\n",
              "dtype: int64"
            ]
          },
          "execution_count": 6,
          "metadata": {},
          "output_type": "execute_result"
        }
      ],
      "source": [
        "df.isnull().sum()"
      ]
    },
    {
      "cell_type": "code",
      "execution_count": null,
      "metadata": {
        "colab": {
          "base_uri": "https://localhost:8080/"
        },
        "id": "em47hmA6x4HX",
        "outputId": "23f69ecf-afce-49d5-de4c-2eb84cf794a4"
      },
      "outputs": [
        {
          "name": "stdout",
          "output_type": "stream",
          "text": [
            "Số lượng dòng trong dữ liệu là: 939\n"
          ]
        }
      ],
      "source": [
        "num_rows = df.shape[0]\n",
        "print(\"Số lượng dòng trong dữ liệu là:\", num_rows)"
      ]
    },
    {
      "cell_type": "code",
      "execution_count": null,
      "metadata": {
        "colab": {
          "base_uri": "https://localhost:8080/"
        },
        "id": "kGStXvEvx7ZG",
        "outputId": "913c7a3c-5af8-405e-aa1b-d4f2e06c342c"
      },
      "outputs": [
        {
          "data": {
            "text/plain": [
              "pc_brand              object\n",
              "pc_model              object\n",
              "elt_condition         object\n",
              "laptop_screen_size    object\n",
              "elt_warranty          object\n",
              "pc_cpu                object\n",
              "pc_ram                 int64\n",
              "pc_drive_capacity      int64\n",
              "elt_origin            object\n",
              "pc_vga                object\n",
              "price                  int64\n",
              "dtype: object"
            ]
          },
          "execution_count": 8,
          "metadata": {},
          "output_type": "execute_result"
        }
      ],
      "source": [
        "df.dtypes"
      ]
    },
    {
      "cell_type": "markdown",
      "metadata": {
        "id": "XTjyF5JsxKjR"
      },
      "source": [
        "1. PHÂN TÍCH DỮ LIỆU\n",
        "\n"
      ]
    },
    {
      "cell_type": "markdown",
      "metadata": {
        "id": "n-5c17rGXRTw"
      },
      "source": [
        " Phân loại các biến số trong bộ dữ liệu biến nào tương đối gần mức đối xứng, các biến nào đang mất cân đố"
      ]
    },
    {
      "cell_type": "code",
      "execution_count": null,
      "metadata": {
        "colab": {
          "base_uri": "https://localhost:8080/"
        },
        "id": "fYl385yZW7fE",
        "outputId": "9afbefd5-eef3-46b1-9f46-1a28b73e72a6"
      },
      "outputs": [
        {
          "data": {
            "text/plain": [
              "{'pc_ram': False, 'pc_drive_capacity': False, 'price': False}"
            ]
          },
          "execution_count": 36,
          "metadata": {},
          "output_type": "execute_result"
        }
      ],
      "source": [
        "df2 = df.copy()\n",
        "def KiemTraDoiXung(data: pd.Series, percent: float):\n",
        "    median = data.median()\n",
        "    mean = data.mean()\n",
        "    mode = data.mode()\n",
        "\n",
        "\n",
        "    if len(mode) == 1:\n",
        "        if abs(median - mean) / median < percent / 100:\n",
        "            return True\n",
        "    return False\n",
        "def KiemTraCacBien(ds: pd.DataFrame):\n",
        "    d = {}\n",
        "    numeric_columns = ds.select_dtypes(include=['int64', 'float64',]).columns\n",
        "    for col in numeric_columns:\n",
        "        d[col] = KiemTraDoiXung(ds[col], 10)\n",
        "    return d\n",
        "KiemTraCacBien(df2)\n"
      ]
    },
    {
      "cell_type": "markdown",
      "metadata": {
        "id": "wP1VPZAvwWd0"
      },
      "source": [
        "Máy tính dạng nào (hãng nào, cpu, ram) sẽ có giá tốt nhất"
      ]
    },
    {
      "cell_type": "code",
      "execution_count": null,
      "metadata": {
        "colab": {
          "base_uri": "https://localhost:8080/"
        },
        "id": "NdPJE06Iwp4z",
        "outputId": "d68b05cc-3759-4bb4-ddc4-ac58ac79ba1f"
      },
      "outputs": [
        {
          "name": "stdout",
          "output_type": "stream",
          "text": [
            "Thông tin về máy tính có giá cao nhất:\n",
            "pc_brand             Dell\n",
            "pc_cpu      Intel Core i9\n",
            "pc_ram                 32\n",
            "Name: 428, dtype: object\n"
          ]
        }
      ],
      "source": [
        "# Lọc các cột quan trọng\n",
        "selected_columns = ['pc_brand', 'pc_model', 'elt_condition', 'laptop_screen_size', 'elt_warranty',\n",
        "                    'pc_cpu', 'pc_ram', 'pc_drive_capacity', 'elt_origin', 'pc_vga', 'price']\n",
        "df_selected = df[selected_columns]\n",
        "\n",
        "# Sắp xếp theo giá từ cao đến thấp\n",
        "df_sorted = df_selected.sort_values(by='price', ascending=False)\n",
        "\n",
        "# Lấy ra máy tính có giá cao nhất\n",
        "most_expensive_deal = df_sorted.iloc[0]\n",
        "\n",
        "# Hiển thị thông tin về máy tính có giá cao nhất\n",
        "print(\"Thông tin về máy tính có giá cao nhất:\")\n",
        "print(most_expensive_deal[['pc_brand', 'pc_cpu', 'pc_ram']])\n"
      ]
    },
    {
      "cell_type": "markdown",
      "metadata": {
        "id": "gQg7Fy1MtHe8"
      },
      "source": [
        "Biến số nào ảnh hưởng đến giá"
      ]
    },
    {
      "cell_type": "code",
      "execution_count": null,
      "metadata": {
        "colab": {
          "base_uri": "https://localhost:8080/"
        },
        "id": "ATGIPaAjtDZx",
        "outputId": "38310c08-ff8f-44ca-d93d-b027bf3c20e3"
      },
      "outputs": [
        {
          "name": "stdout",
          "output_type": "stream",
          "text": [
            "Correlation between pc_ram and price: 0.5977359222603316\n",
            "P-value: 4.945733968804066e-92\n",
            "Correlation between pc_drive_capacity and price: 0.5905929968466154\n",
            "P-value: 2.3386863216227973e-89\n"
          ]
        }
      ],
      "source": [
        "# Phân tích tương quan giữa pc_ram và giá\n",
        "correlation_ram_price, p_value_ram_price = stats.pearsonr(df['pc_ram'], df['price'])\n",
        "print(f\"Correlation between pc_ram and price: {correlation_ram_price}\")\n",
        "print(f\"P-value: {p_value_ram_price}\")\n",
        "\n",
        "# Phân tích tương quan giữa pc_drive_capacity và giá\n",
        "correlation_capacity_price, p_value_capacity_price = stats.pearsonr(df['pc_drive_capacity'], df['price'])\n",
        "print(f\"Correlation between pc_drive_capacity and price: {correlation_capacity_price}\")\n",
        "print(f\"P-value: {p_value_capacity_price}\")"
      ]
    },
    {
      "cell_type": "markdown",
      "metadata": {
        "id": "i-GGR-6btQQ4"
      },
      "source": [
        "Trong các biến phân loại trên thì biến nào ảnh hưởng đến giá cả"
      ]
    },
    {
      "cell_type": "code",
      "execution_count": null,
      "metadata": {
        "colab": {
          "base_uri": "https://localhost:8080/"
        },
        "id": "_QwNfHjdtOGu",
        "outputId": "67b9a1aa-2fda-450e-fcbd-ccec235e7077"
      },
      "outputs": [
        {
          "name": "stdout",
          "output_type": "stream",
          "text": [
            "                          sum_sq     df          F        PR(>F)\n",
            "pc_brand            6.483358e+14   13.0   3.020329  2.307181e-04\n",
            "pc_model            1.019904e+16   73.0   8.461238  4.567026e-61\n",
            "elt_condition       4.021004e+14    2.0  12.175929  6.151311e-06\n",
            "laptop_screen_size  3.987727e+14    4.0   6.037582  8.635874e-05\n",
            "pc_cpu              5.393866e+15   13.0  25.127794  1.700012e-51\n",
            "elt_warranty        1.850871e+15    8.0  14.011470  3.268678e-19\n",
            "elt_origin          1.127839e+14    6.0   1.138396  3.379428e-01\n",
            "pc_vga              3.046923e+14    3.0   6.150886  3.888482e-04\n",
            "Residual            1.355644e+16  821.0        NaN           NaN\n"
          ]
        }
      ],
      "source": [
        "import statsmodels.api as sm\n",
        "from statsmodels.formula.api import ols\n",
        "\n",
        "# Tạo mô hình ANOVA\n",
        "model = ols('price ~ pc_brand + pc_model + elt_condition + laptop_screen_size + pc_cpu + elt_warranty + elt_origin + pc_vga', data=df).fit()\n",
        "\n",
        "# Phân tích ANOVA\n",
        "anova_table = sm.stats.anova_lm(model, typ=2)\n",
        "print(anova_table)"
      ]
    },
    {
      "cell_type": "code",
      "execution_count": null,
      "metadata": {
        "colab": {
          "base_uri": "https://localhost:8080/"
        },
        "id": "d6FsET1ItSoE",
        "outputId": "3733820f-57a6-4b56-a7e0-c99907619871"
      },
      "outputs": [
        {
          "name": "stdout",
          "output_type": "stream",
          "text": [
            "Các biến phân loại ảnh hưởng đáng kể đến giá cả: ['pc_brand', 'pc_model', 'elt_condition', 'laptop_screen_size', 'pc_cpu', 'elt_warranty', 'pc_vga']\n"
          ]
        }
      ],
      "source": [
        "# Kiểm tra giá trị p-value của từng biến phân loại\n",
        "p_values = anova_table['PR(>F)']\n",
        "significant_variables = [variable for variable, p_value in zip(anova_table.index, p_values) if p_value < 0.05]\n",
        "\n",
        "# In ra biến phân loại ảnh hưởng đáng kể đến giá cả\n",
        "print(\"Các biến phân loại ảnh hưởng đáng kể đến giá cả:\", significant_variables)"
      ]
    },
    {
      "cell_type": "markdown",
      "metadata": {
        "id": "AEntJKM2tVex"
      },
      "source": [
        "Tập hợp gồm 3 giá trị biến phân loại có khả năng ảnh hưởng đến giá nhiều nhất:"
      ]
    },
    {
      "cell_type": "code",
      "execution_count": null,
      "metadata": {
        "colab": {
          "base_uri": "https://localhost:8080/"
        },
        "id": "U8N1tLgHtVUQ",
        "outputId": "f35c658f-0da5-429b-d804-16f84a200c57"
      },
      "outputs": [
        {
          "name": "stdout",
          "output_type": "stream",
          "text": [
            "Tìm tập hợp gồm 3 giá trị biến phân loại có khả năng ảnh hưởng đến giá nhiều nhất:\n",
            "pc_cpu Với F-statistic = 50.51420968547747, p-value = 2.3485345047051534e-98\n",
            "elt_condition Với F-statistic = 48.63758778691589, p-value = 8.016988701364902e-21\n",
            "pc_vga Với F-statistic = 30.7681370933067, p-value = 5.677418484231058e-19\n"
          ]
        }
      ],
      "source": [
        "categorical_columns = df.select_dtypes(include=['object'])\n",
        "top_3_categorical = {}\n",
        "\n",
        "# Duyệt qua từng cột phân loại và tính F-statistic và p-value\n",
        "for column in categorical_columns:\n",
        "    groups = df.groupby(column)['price'].apply(list)\n",
        "    f_statistic, p_value = stats.f_oneway(*groups)\n",
        "    top_3_categorical[column] = {'F-statistic': f_statistic, 'p-value': p_value}\n",
        "\n",
        "# Sắp xếp tập hợp theo giá trị F-statistic và lấy 3 giá trị cao nhất\n",
        "sorted_top_3_categorical = sorted(top_3_categorical.items(), key=lambda item: item[1]['F-statistic'], reverse=True)[:3]\n",
        "\n",
        "# Xuất ra kết quả\n",
        "print(\"Tìm tập hợp gồm 3 giá trị biến phân loại có khả năng ảnh hưởng đến giá nhiều nhất:\")\n",
        "for column, values in sorted_top_3_categorical:\n",
        "    f_statistic = values['F-statistic']\n",
        "    p_value = values['p-value']\n",
        "    print(f\"{column} Với F-statistic = {f_statistic}, p-value = {p_value}\")"
      ]
    },
    {
      "cell_type": "markdown",
      "metadata": {
        "id": "CpfEl8vW98hD"
      },
      "source": [
        "Sự biến thiên về giá do ảnh hưởng của các biến"
      ]
    },
    {
      "cell_type": "code",
      "execution_count": null,
      "metadata": {
        "colab": {
          "base_uri": "https://localhost:8080/"
        },
        "id": "_awe1wpR-GaW",
        "outputId": "58404708-8c2e-46d8-af2e-e44bc5fd395b"
      },
      "outputs": [
        {
          "name": "stdout",
          "output_type": "stream",
          "text": [
            "                            OLS Regression Results                            \n",
            "==============================================================================\n",
            "Dep. Variable:                  price   R-squared:                       0.834\n",
            "Model:                            OLS   Adj. R-squared:                  0.810\n",
            "Method:                 Least Squares   F-statistic:                     34.61\n",
            "Date:                Wed, 20 Dec 2023   Prob (F-statistic):          1.70e-249\n",
            "Time:                        02:15:51   Log-Likelihood:                -15430.\n",
            "No. Observations:                 939   AIC:                         3.110e+04\n",
            "Df Residuals:                     819   BIC:                         3.168e+04\n",
            "Df Model:                         119                                         \n",
            "Covariance Type:            nonrobust                                         \n",
            "============================================================================================================\n",
            "                                               coef    std err          t      P>|t|      [0.025      0.975]\n",
            "------------------------------------------------------------------------------------------------------------\n",
            "const                                     1.269e+07    3.9e+06      3.257      0.001    5.04e+06    2.03e+07\n",
            "pc_ram                                    3.278e+05   3.25e+04     10.079      0.000    2.64e+05    3.92e+05\n",
            "pc_drive_capacity                         6625.5501    822.469      8.056      0.000    5011.156    8239.945\n",
            "pc_brand_Apple                           -1.299e+06   2.51e+06     -0.518      0.605   -6.22e+06    3.63e+06\n",
            "pc_brand_Asus                            -8.444e+05   2.25e+06     -0.375      0.708   -5.27e+06    3.58e+06\n",
            "pc_brand_Dell                              1.05e+06   2.45e+06      0.429      0.668   -3.76e+06    5.86e+06\n",
            "pc_brand_HP                              -3.238e+05   2.49e+06     -0.130      0.896   -5.21e+06    4.56e+06\n",
            "pc_brand_Hãng khác                       -2.869e+06   2.23e+06     -1.286      0.199   -7.25e+06    1.51e+06\n",
            "pc_brand_LG                               2.656e+06   1.57e+06      1.696      0.090   -4.18e+05    5.73e+06\n",
            "pc_brand_Lenovo                          -2.283e+06   3.25e+06     -0.703      0.482   -8.66e+06    4.09e+06\n",
            "pc_brand_MSI                             -7.362e+05   2.36e+06     -0.311      0.756   -5.38e+06    3.91e+06\n",
            "pc_brand_Microsoft                        2.567e+06   2.25e+06      1.140      0.255   -1.85e+06    6.99e+06\n",
            "pc_brand_Panasonic                       -1.672e+05   2.24e+06     -0.074      0.941   -4.57e+06    4.24e+06\n",
            "pc_brand_Samsung                          3.514e+06   1.79e+06      1.961      0.050   -3138.491    7.03e+06\n",
            "pc_brand_Sony                            -4.687e+06   3.51e+06     -1.334      0.183   -1.16e+07    2.21e+06\n",
            "pc_brand_Toshiba                          -5.27e+06   3.43e+06     -1.535      0.125    -1.2e+07    1.47e+06\n",
            "pc_model_ASUSPRO                          9.749e+05   3.79e+06      0.257      0.797   -6.46e+06    8.41e+06\n",
            "pc_model_Alienware                        1.461e+07   2.31e+06      6.339      0.000    1.01e+07    1.91e+07\n",
            "pc_model_Aspire                          -1.112e+06   2.59e+06     -0.429      0.668    -6.2e+06    3.97e+06\n",
            "pc_model_Bravo Series                     2.131e+06   2.94e+06      0.724      0.469   -3.64e+06    7.91e+06\n",
            "pc_model_C Series                        -6.886e+05   4.66e+06     -0.148      0.883   -9.84e+06    8.46e+06\n",
            "pc_model_CF                              -1.672e+05   2.24e+06     -0.074      0.941   -4.57e+06    4.24e+06\n",
            "pc_model_CR Series                        2.348e+06   4.15e+06      0.566      0.571   -5.79e+06    1.05e+07\n",
            "pc_model_Chromebook                       1.653e+05   4.22e+06      0.039      0.969   -8.12e+06    8.45e+06\n",
            "pc_model_Dòng Khác                        3.117e+06   1.49e+06      2.091      0.037    1.91e+05    6.04e+06\n",
            "pc_model_Dòng khác                        3.045e+06   1.77e+06      1.725      0.085    -4.2e+05    6.51e+06\n",
            "pc_model_Elitebook                        1.879e+05   2.23e+06      0.084      0.933   -4.19e+06    4.57e+06\n",
            "pc_model_Envy                             1.725e+06   2.53e+06      0.682      0.496   -3.24e+06    6.69e+06\n",
            "pc_model_ExpertBook                       4.184e+06    2.2e+06      1.899      0.058   -1.41e+05    8.51e+06\n",
            "pc_model_F Series                         7.038e+06   3.74e+06      1.880      0.060   -3.09e+05    1.44e+07\n",
            "pc_model_FX Series/ZX Series              4.953e+06   1.55e+06      3.187      0.001     1.9e+06       8e+06\n",
            "pc_model_G Series                         6.013e+05   1.68e+06      0.358      0.721    -2.7e+06     3.9e+06\n",
            "pc_model_GE Series                         6.23e+05   4.17e+06      0.149      0.881   -7.57e+06    8.81e+06\n",
            "pc_model_GF Series                        2.718e+06    2.2e+06      1.233      0.218   -1.61e+06    7.05e+06\n",
            "pc_model_GL Series                        6.014e+06   3.18e+06      1.890      0.059   -2.33e+05    1.23e+07\n",
            "pc_model_GP Series                        9.467e+06   4.31e+06      2.194      0.028    9.98e+05    1.79e+07\n",
            "pc_model_GS Series                        2.571e+06   4.15e+06      0.620      0.535   -5.57e+06    1.07e+07\n",
            "pc_model_Galaxyboook                      3.514e+06   1.79e+06      1.961      0.050   -3138.491    7.03e+06\n",
            "pc_model_Gram                             2.656e+06   1.57e+06      1.696      0.090   -4.18e+05    5.73e+06\n",
            "pc_model_Helios                           7.423e+06   3.26e+06      2.279      0.023    1.03e+06    1.38e+07\n",
            "pc_model_IdeaPad                          3.389e+06   3.03e+06      1.120      0.263   -2.55e+06    9.33e+06\n",
            "pc_model_Inspiron                        -4.756e+05      2e+06     -0.238      0.812    -4.4e+06    3.45e+06\n",
            "pc_model_K Series                        -2.025e+06   2.11e+06     -0.961      0.337   -6.16e+06    2.11e+06\n",
            "pc_model_Latitude                        -1.436e+06   1.91e+06     -0.750      0.454   -5.19e+06    2.32e+06\n",
            "pc_model_Legion Y Series                  9.062e+06    3.1e+06      2.924      0.004    2.98e+06    1.51e+07\n",
            "pc_model_MacBook                         -1.018e+07   1.79e+06     -5.696      0.000   -1.37e+07   -6.67e+06\n",
            "pc_model_MacBook Air                       3.21e+06   1.28e+06      2.504      0.012    6.94e+05    5.73e+06\n",
            "pc_model_MacBook Air M1                  -7.248e+06   9.74e+05     -7.445      0.000   -9.16e+06   -5.34e+06\n",
            "pc_model_MacBook Air M2                  -1.544e+06   1.37e+06     -1.123      0.262   -4.24e+06    1.15e+06\n",
            "pc_model_MacBook Pro                      2.007e+06   1.09e+06      1.844      0.066   -1.29e+05    4.14e+06\n",
            "pc_model_MacBook Pro M1                   9.344e+05   1.36e+06      0.687      0.492   -1.73e+06     3.6e+06\n",
            "pc_model_MacBook Pro M1 Touch Bar        -1.551e+06   1.29e+06     -1.202      0.230   -4.08e+06    9.82e+05\n",
            "pc_model_MacBook Pro M2                   1.426e+07   1.46e+06      9.798      0.000    1.14e+07    1.71e+07\n",
            "pc_model_MacBook Pro M2 Touch Bar        -3.328e+06   3.34e+06     -0.996      0.320   -9.89e+06    3.23e+06\n",
            "pc_model_MacBook Pro Touch Bar            2.143e+06   1.24e+06      1.725      0.085   -2.96e+05    4.58e+06\n",
            "pc_model_Modern Series                   -1.401e+06   2.62e+06     -0.536      0.592   -6.54e+06    3.74e+06\n",
            "pc_model_Nitro 5                           3.04e+06   2.58e+06      1.181      0.238   -2.01e+06     8.1e+06\n",
            "pc_model_Notebook                         1.513e+05   2.32e+06      0.065      0.948    -4.4e+06    4.71e+06\n",
            "pc_model_OMEN                             -2.43e+06   4.21e+06     -0.577      0.564   -1.07e+07    5.84e+06\n",
            "pc_model_Pavilion                         1.581e+06   2.34e+06      0.677      0.499      -3e+06    6.16e+06\n",
            "pc_model_Portege                           4.51e+06   4.63e+06      0.974      0.331   -4.58e+06    1.36e+07\n",
            "pc_model_Precision                       -2.337e+06   1.93e+06     -1.209      0.227   -6.13e+06    1.46e+06\n",
            "pc_model_Precision Mobile Workstations   -3.099e+06   2.78e+06     -1.115      0.265   -8.55e+06    2.35e+06\n",
            "pc_model_Predator                         6.504e+06   3.25e+06      2.001      0.046    1.25e+05    1.29e+07\n",
            "pc_model_ProArt Studiobook               -3.484e+05   3.94e+06     -0.088      0.930   -8.08e+06    7.39e+06\n",
            "pc_model_ProBook                         -9.563e+05   2.32e+06     -0.413      0.680    -5.5e+06    3.59e+06\n",
            "pc_model_ROG Flow                         7.815e+05   2.43e+06      0.321      0.748      -4e+06    5.56e+06\n",
            "pc_model_ROG Strix Scar                    2.96e+06   1.44e+06      2.054      0.040    1.32e+05    5.79e+06\n",
            "pc_model_S Series                         1.172e+06   2.95e+06      0.398      0.691   -4.61e+06    6.96e+06\n",
            "pc_model_Spectre                          9.372e+06    2.8e+06      3.351      0.001    3.88e+06    1.49e+07\n",
            "pc_model_Surface                          1.462e+04   1.66e+06      0.009      0.993   -3.24e+06    3.27e+06\n",
            "pc_model_Surface Book                    -1.294e+06   1.57e+06     -0.825      0.410   -4.37e+06    1.79e+06\n",
            "pc_model_Surface Laptop Studio           -3.929e+05   3.14e+06     -0.125      0.900   -6.56e+06    5.77e+06\n",
            "pc_model_Surface Pro 7                    1.194e+06   2.37e+06      0.504      0.614   -3.46e+06    5.84e+06\n",
            "pc_model_Swift                            5.192e+06   3.58e+06      1.452      0.147   -1.83e+06    1.22e+07\n",
            "pc_model_TUF Gaming                       2.677e+06   1.54e+06      1.743      0.082   -3.37e+05    5.69e+06\n",
            "pc_model_Tecra Series                     3.192e+06    4.6e+06      0.694      0.488   -5.84e+06    1.22e+07\n",
            "pc_model_ThinkBook                        3.373e+06    3.6e+06      0.938      0.348   -3.68e+06    1.04e+07\n",
            "pc_model_ThinkPad                         2.338e+06      3e+06      0.778      0.437   -3.56e+06    8.24e+06\n",
            "pc_model_Vaio Series                     -1.375e+04   4.73e+06     -0.003      0.998   -9.31e+06    9.28e+06\n",
            "pc_model_Victus                            2.69e+06   2.77e+06      0.970      0.332   -2.75e+06    8.13e+06\n",
            "pc_model_VivoBook S Series                7.691e+05   1.38e+06      0.557      0.577   -1.94e+06    3.48e+06\n",
            "pc_model_Vostro                          -1.026e+05   2.05e+06     -0.050      0.960   -4.13e+06    3.92e+06\n",
            "pc_model_X Series                         2.765e+05   1.66e+06      0.167      0.868   -2.98e+06    3.53e+06\n",
            "pc_model_XPS                              1.816e+06   2.07e+06      0.878      0.380   -2.24e+06    5.88e+06\n",
            "pc_model_Yoga                             3.182e+06   3.89e+06      0.819      0.413   -4.44e+06    1.08e+07\n",
            "pc_model_Z Series                          3.84e+06   4.69e+06      0.820      0.413   -5.36e+06     1.3e+07\n",
            "pc_model_ZBook                            6.122e+05   2.77e+06      0.221      0.825   -4.82e+06    6.05e+06\n",
            "pc_model_Zenbook Series                   4.679e+06   1.87e+06      2.505      0.012    1.01e+06    8.35e+06\n",
            "elt_condition_Đã sử dụng (chưa sửa chữa) -1.992e+06   3.75e+05     -5.310      0.000   -2.73e+06   -1.26e+06\n",
            "elt_condition_Đã sử dụng (qua sửa chữa)  -2.592e+06   2.12e+06     -1.224      0.221   -6.75e+06    1.57e+06\n",
            "laptop_screen_size_13 - 14.9 inch         1.762e+06   6.86e+05      2.569      0.010    4.16e+05    3.11e+06\n",
            "laptop_screen_size_15 - 16.9 inch         2.309e+06   7.39e+05      3.124      0.002    8.58e+05    3.76e+06\n",
            "laptop_screen_size_17 - 18.9 inch         8.909e+04   1.27e+06      0.070      0.944    -2.4e+06    2.58e+06\n",
            "laptop_screen_size_9 - 10.9 inch         -1.514e+06   3.73e+06     -0.406      0.685   -8.83e+06     5.8e+06\n",
            "elt_warranty_2 tháng                      5.789e+05   3.74e+06      0.155      0.877   -6.75e+06    7.91e+06\n",
            "elt_warranty_3 tháng                       -3.5e+05   4.25e+05     -0.824      0.410   -1.18e+06    4.84e+05\n",
            "elt_warranty_4-6 tháng                    1.573e+06   5.88e+05      2.675      0.008    4.19e+05    2.73e+06\n",
            "elt_warranty_7-12 tháng                   3.058e+06   8.14e+05      3.757      0.000    1.46e+06    4.66e+06\n",
            "elt_warranty_>12 tháng                    3.933e+06   8.43e+05      4.663      0.000    2.28e+06    5.59e+06\n",
            "elt_warranty_Bảo hành hãng                4.605e+05   9.84e+05      0.468      0.640   -1.47e+06    2.39e+06\n",
            "elt_warranty_Còn bảo hành                 9.119e+05   5.15e+05      1.771      0.077   -9.87e+04    1.92e+06\n",
            "elt_warranty_Hết bảo hành                -1.706e+06   5.63e+05     -3.030      0.003   -2.81e+06   -6.01e+05\n",
            "pc_cpu_Intel Celeron                     -6.791e+06   2.88e+06     -2.356      0.019   -1.24e+07   -1.13e+06\n",
            "pc_cpu_Intel Core 2 Quad                 -5.593e+06   4.43e+06     -1.264      0.207   -1.43e+07    3.09e+06\n",
            "pc_cpu_Intel Core i3                     -6.539e+06   2.24e+06     -2.917      0.004   -1.09e+07   -2.14e+06\n",
            "pc_cpu_Intel Core i5                     -6.499e+06   2.19e+06     -2.966      0.003   -1.08e+07    -2.2e+06\n",
            "pc_cpu_Intel Core i7                     -5.714e+06   2.19e+06     -2.604      0.009      -1e+07   -1.41e+06\n",
            "pc_cpu_Intel Core i9                      4.387e+06   2.48e+06      1.772      0.077   -4.73e+05    9.25e+06\n",
            "pc_cpu_Intel Pentium                     -6.944e+06   3.53e+06     -1.968      0.049   -1.39e+07   -1.81e+04\n",
            "pc_cpu_Intel Xeon                        -5.004e+06   2.76e+06     -1.813      0.070   -1.04e+07    4.13e+05\n",
            "pc_cpu_Khác                               1.114e+07   2.35e+06      4.743      0.000    6.53e+06    1.58e+07\n",
            "pc_cpu_Ryzen 3                           -8.253e+06   2.96e+06     -2.788      0.005   -1.41e+07   -2.44e+06\n",
            "pc_cpu_Ryzen 5                           -5.387e+06   2.29e+06     -2.355      0.019   -9.88e+06   -8.97e+05\n",
            "pc_cpu_Ryzen 7                           -4.696e+06    2.3e+06     -2.041      0.042   -9.21e+06    -1.8e+05\n",
            "pc_cpu_Ryzen 9                            3.078e+05   2.81e+06      0.110      0.913    -5.2e+06    5.82e+06\n",
            "elt_origin_Mỹ                            -4.652e+06   1.91e+06     -2.435      0.015    -8.4e+06   -9.02e+05\n",
            "elt_origin_Nhật Bản                      -3.808e+06   2.18e+06     -1.746      0.081   -8.09e+06    4.73e+05\n",
            "elt_origin_Nước khác                     -3.542e+06   2.06e+06     -1.723      0.085   -7.58e+06    4.93e+05\n",
            "elt_origin_Trung Quốc                    -3.908e+06   2.17e+06     -1.803      0.072   -8.16e+06    3.46e+05\n",
            "elt_origin_Việt Nam                      -4.296e+06   1.92e+06     -2.242      0.025   -8.06e+06   -5.35e+05\n",
            "elt_origin_Đài Loan                      -2.933e+06   2.07e+06     -1.418      0.157   -6.99e+06    1.13e+06\n",
            "pc_vga_Khác                              -1.217e+06   8.11e+05     -1.501      0.134   -2.81e+06    3.74e+05\n",
            "pc_vga_NVIDIA                              1.08e+06   6.92e+05      1.562      0.119   -2.77e+05    2.44e+06\n",
            "pc_vga_Onboard                           -1.771e+05   6.81e+05     -0.260      0.795   -1.51e+06    1.16e+06\n",
            "==============================================================================\n",
            "Omnibus:                      421.648   Durbin-Watson:                   1.895\n",
            "Prob(Omnibus):                  0.000   Jarque-Bera (JB):            12589.510\n",
            "Skew:                           1.430   Prob(JB):                         0.00\n",
            "Kurtosis:                      20.709   Cond. No.                     7.08e+18\n",
            "==============================================================================\n",
            "\n",
            "Notes:\n",
            "[1] Standard Errors assume that the covariance matrix of the errors is correctly specified.\n",
            "[2] The smallest eigenvalue is 3.94e-30. This might indicate that there are\n",
            "strong multicollinearity problems or that the design matrix is singular.\n"
          ]
        }
      ],
      "source": [
        "import statsmodels.api as sm\n",
        "\n",
        "# Chọn 11 biến cần tính ảnh hưởng\n",
        "selected_variables = [\n",
        "    \"pc_brand\", \"pc_model\", \"elt_condition\", \"laptop_screen_size\",\n",
        "    \"elt_warranty\", \"pc_cpu\", \"pc_ram\", \"pc_drive_capacity\",\n",
        "    \"elt_origin\", \"pc_vga\"\n",
        "]\n",
        "\n",
        "# Tạo DataFrame mới chỉ chứa các biến được chọn và giá\n",
        "df_selected = df[selected_variables + ['price']]\n",
        "\n",
        "# Xử lý dữ liệu categorical thành dummies\n",
        "df_selected = pd.get_dummies(df_selected, drop_first=True)\n",
        "\n",
        "# Thêm hằng số cho mô hình Linear Regression\n",
        "X = sm.add_constant(df_selected.drop('price', axis=1))\n",
        "\n",
        "# Mô hình Linear Regression\n",
        "model = sm.OLS(df_selected['price'], X).fit()\n",
        "\n",
        "# In summary của mô hình\n",
        "print(model.summary())\n"
      ]
    },
    {
      "cell_type": "markdown",
      "metadata": {
        "id": "CMw0LHTbxgGJ"
      },
      "source": [
        "2. TRỰC QUAN HÓA DỮ LIỆU"
      ]
    },
    {
      "cell_type": "markdown",
      "metadata": {
        "id": "E8ptcwlKykuH"
      },
      "source": [
        "Nội dung\n",
        "1.   Đồ thị thể hiện sự phân phối giá bán máy tính\n",
        "2.   Ma trận tương quan giữa các biến trong dữ liệu\n",
        "3.   Số lượng máy tính của hãng được bán nhiều nhất\n",
        "4.   Số lượng từng dòng máy của hãng được bán nhiều nhất\n",
        "5.   Boxplot ảnh hưởng của pc-drive-capacity đối với giá\n",
        "6.   Boxplot ảnh hưởng của pc-ram đối với giá\n"
      ]
    },
    {
      "cell_type": "code",
      "execution_count": null,
      "metadata": {
        "colab": {
          "base_uri": "https://localhost:8080/"
        },
        "id": "X2PRFQyloW6u",
        "outputId": "238f7286-d78f-468a-de7f-49e35434afb4"
      },
      "outputs": [
        {
          "output_type": "stream",
          "name": "stdout",
          "text": [
            "                     pc_ram  pc_drive_capacity     price\n",
            "pc_ram             1.000000           0.541672  0.597736\n",
            "pc_drive_capacity  0.541672           1.000000  0.590593\n",
            "price              0.597736           0.590593  1.000000\n"
          ]
        },
        {
          "output_type": "stream",
          "name": "stderr",
          "text": [
            "<ipython-input-17-5582f3c5b19d>:2: FutureWarning:\n",
            "\n",
            "The default value of numeric_only in DataFrame.corr is deprecated. In a future version, it will default to False. Select only valid columns or specify the value of numeric_only to silence this warning.\n",
            "\n"
          ]
        }
      ],
      "source": [
        "# Tính toán ma trận tương quan\n",
        "correlation_matrix = df.corr()\n",
        "\n",
        "# In ma trận tương quan để kiểm tra\n",
        "print(correlation_matrix)"
      ]
    },
    {
      "cell_type": "code",
      "execution_count": null,
      "metadata": {
        "colab": {
          "base_uri": "https://localhost:8080/",
          "height": 741
        },
        "id": "IyHQZ0Iyk8ng",
        "outputId": "a3944afa-dc17-4135-bd2d-f30d64f1ff62"
      },
      "outputs": [
        {
          "output_type": "stream",
          "name": "stderr",
          "text": [
            "/usr/local/lib/python3.10/dist-packages/plotly/express/_core.py:137: FutureWarning:\n",
            "\n",
            "Support for multi-dimensional indexing (e.g. `obj[:, None]`) is deprecated and will be removed in a future version.  Convert to a numpy array before indexing instead.\n",
            "\n"
          ]
        },
        {
          "output_type": "display_data",
          "data": {
            "text/plain": [
              "<IPython.core.display.Javascript object>"
            ],
            "application/javascript": [
              "(async (port, path, width, height, cache, element) => {\n",
              "    if (!google.colab.kernel.accessAllowed && !cache) {\n",
              "      return;\n",
              "    }\n",
              "    element.appendChild(document.createTextNode(''));\n",
              "    const url = await google.colab.kernel.proxyPort(port, {cache});\n",
              "    const iframe = document.createElement('iframe');\n",
              "    iframe.src = new URL(path, url).toString();\n",
              "    iframe.height = height;\n",
              "    iframe.width = width;\n",
              "    iframe.style.border = 0;\n",
              "    iframe.allow = [\n",
              "        'accelerometer',\n",
              "        'autoplay',\n",
              "        'camera',\n",
              "        'clipboard-read',\n",
              "        'clipboard-write',\n",
              "        'gyroscope',\n",
              "        'magnetometer',\n",
              "        'microphone',\n",
              "        'serial',\n",
              "        'usb',\n",
              "        'xr-spatial-tracking',\n",
              "    ].join('; ');\n",
              "    element.appendChild(iframe);\n",
              "  })(8050, \"/\", \"100%\", 650, false, window.element)"
            ]
          },
          "metadata": {}
        }
      ],
      "source": [
        "import numpy as np\n",
        "# Đếm số lượng sản phẩm bán theo từng hãng máy tính\n",
        "brand_counts = df['pc_brand'].value_counts()\n",
        "\n",
        "# Đếm số lượng từng dòng máy thuộc hãng Dell\n",
        "dell_counts = df[df['pc_brand'] == 'Dell']['pc_model'].value_counts()\n",
        "\n",
        "app = dash.Dash(__name__)\n",
        "\n",
        "app.layout = html.Div(children=[\n",
        "    html.H1(children='Dashboard Phân tích dữ liệu'),\n",
        "    html.Div([\n",
        "        dcc.Graph(\n",
        "            id='histogram-price',\n",
        "            figure={\n",
        "                'data': [\n",
        "                    {'x': df['price'], 'type': 'histogram', 'name': 'Phân phối giá'}\n",
        "                ],\n",
        "                'layout': {\n",
        "                    'title': 'Phân phối giá'\n",
        "                }\n",
        "            }\n",
        "        ),\n",
        "        dcc.Graph(\n",
        "            id='heatmap-correlation',\n",
        "            figure={\n",
        "                'data': [\n",
        "                    {'z': correlation_matrix.values,\n",
        "                     'x': correlation_matrix.columns,\n",
        "                     'y': correlation_matrix.index,\n",
        "                     'type': 'heatmap',\n",
        "                     'colorscale': 'coolwarm',\n",
        "                     'colorbar': {'title': 'Tương quan'}\n",
        "                     }\n",
        "                ],\n",
        "                'layout': {\n",
        "                    'title': 'Ma trận Tương quan'\n",
        "                }\n",
        "            }\n",
        "        ),\n",
        "    ], style={'display': 'flex'}),\n",
        "\n",
        "    html.Div([\n",
        "        dcc.Graph(\n",
        "            id='bar-chart',\n",
        "            figure=px.bar(x=brand_counts.index, y=brand_counts.values, labels={'x': 'Hãng máy tính', 'y': 'Số lượng'}),\n",
        "        ),\n",
        "        dcc.Graph(\n",
        "            id='pie-chart',\n",
        "            figure=px.pie(labels=dell_counts.index, values=dell_counts.values,\n",
        "                          title='Phân phối số lượng máy',\n",
        "                          hover_name=dell_counts.index),\n",
        "        ),\n",
        "    ], style={'display': 'flex'}),\n",
        "\n",
        "    html.Div([\n",
        "        dcc.Graph(\n",
        "            id='boxplot-drive-capacity-price',\n",
        "            figure=px.box(df, x='pc_drive_capacity', y='price', title='Ảnh hưởng của pc_drive_capacity đối với giá'),\n",
        "        ),\n",
        "        dcc.Graph(\n",
        "            id='boxplot-ram-price',\n",
        "            figure=px.box(df, x='pc_ram', y='price', title='Ảnh hưởng của pc_ram đối với giá'),\n",
        "        ),\n",
        "    ], style={'display': 'flex'}),\n",
        "\n",
        "])\n",
        "\n",
        "if __name__ == '__main__':\n",
        "    app.run_server(debug=True)\n"
      ]
    },
    {
      "cell_type": "markdown",
      "metadata": {
        "id": "v9IDyBSetvb3"
      },
      "source": [
        "3. MÔ HÌNH DỰ ĐOÁN KẾT QUẢ"
      ]
    },
    {
      "cell_type": "markdown",
      "metadata": {
        "id": "C51i_4vJBJ_Y"
      },
      "source": [
        "XGboost"
      ]
    },
    {
      "cell_type": "code",
      "execution_count": null,
      "metadata": {
        "colab": {
          "base_uri": "https://localhost:8080/"
        },
        "id": "72He9Fl8BRdE",
        "outputId": "de54043b-f8f4-4360-bdc4-e06af1b6e40e"
      },
      "outputs": [
        {
          "output_type": "stream",
          "name": "stdout",
          "text": [
            "Độ chính xác của mô hình là: 0.5630450689881404\n"
          ]
        }
      ],
      "source": [
        "from sklearn.feature_extraction.text import TfidfVectorizer\n",
        "from sklearn.model_selection import train_test_split\n",
        "import xgboost as xgb\n",
        "\n",
        "# Chuẩn bị dữ liệu văn bản\n",
        "X = df[['pc_brand', 'pc_model', 'elt_condition', 'laptop_screen_size', 'elt_warranty', 'pc_cpu', 'pc_vga', 'pc_ram', 'pc_drive_capacity']]\n",
        "y = df['price']\n",
        "\n",
        "# Chuyển đổi cột thành chuỗi duy nhất\n",
        "X_text = X.apply(lambda row: ' '.join(row.values.astype(str)), axis=1)\n",
        "\n",
        "# Chuyển đổi văn bản thành vectơ TF-IDF\n",
        "vectorizer = TfidfVectorizer()\n",
        "X_tfidf = vectorizer.fit_transform(X_text)\n",
        "\n",
        "# Chia tập train và tập test\n",
        "X_train, X_test, y_train, y_test = train_test_split(X_tfidf, y, test_size=0.3, random_state=42)\n",
        "\n",
        "# Xây dựng mô hình RandomForestRegressor\n",
        "xgb_model = xgb.XGBRegressor()\n",
        "xgb_model.fit(X_train, y_train)\n",
        "\n",
        "# Huấn luyện mô hình\n",
        "# rf_model.fit(X_train, y_train)\n",
        "\n",
        "# Đánh giá mô hình\n",
        "accuracy = xgb_model.score(X_test, y_test)\n",
        "print(\"Độ chính xác của mô hình là:\", accuracy)"
      ]
    },
    {
      "cell_type": "markdown",
      "metadata": {
        "id": "SQtsuOoiBUpt"
      },
      "source": [
        "K-Neighbors Regressor(KNN)"
      ]
    },
    {
      "cell_type": "code",
      "execution_count": null,
      "metadata": {
        "colab": {
          "base_uri": "https://localhost:8080/"
        },
        "id": "gBEYpFfFBUcO",
        "outputId": "91204cb4-bd67-4a40-a5af-a07ce820c36e"
      },
      "outputs": [
        {
          "output_type": "stream",
          "name": "stdout",
          "text": [
            "Độ chính xác của mô hình là: 0.5737086094651964\n"
          ]
        }
      ],
      "source": [
        "from sklearn.feature_extraction.text import TfidfVectorizer\n",
        "from sklearn.model_selection import train_test_split\n",
        "from sklearn.neighbors import KNeighborsRegressor\n",
        "\n",
        "# Chuẩn bị dữ liệu văn bản\n",
        "X = df[['pc_brand', 'pc_model', 'elt_condition', 'laptop_screen_size', 'elt_warranty', 'pc_cpu', 'pc_vga', 'pc_ram', 'pc_drive_capacity']]\n",
        "y = df['price']\n",
        "\n",
        "# Chuyển đổi cột thành chuỗi duy nhất\n",
        "X_text = X.apply(lambda row: ' '.join(row.values.astype(str)), axis=1)\n",
        "\n",
        "# Chuyển đổi văn bản thành vectơ TF-IDF\n",
        "vectorizer = TfidfVectorizer()\n",
        "X_tfidf = vectorizer.fit_transform(X_text)\n",
        "\n",
        "# Chia tập train và tập test\n",
        "X_train, X_test, y_train, y_test = train_test_split(X_tfidf, y, test_size=0.3, random_state=42)\n",
        "\n",
        "# Xây dựng mô hình KNN\n",
        "knn_model = KNeighborsRegressor()\n",
        "\n",
        "# Huấn luyện mô hình\n",
        "knn_model.fit(X_train, y_train)\n",
        "\n",
        "# Đánh giá mô hình\n",
        "accuracy = knn_model.score(X_test, y_test)\n",
        "print(\"Độ chính xác của mô hình là:\", accuracy)"
      ]
    },
    {
      "cell_type": "markdown",
      "metadata": {
        "id": "ix948DDhBkEB"
      },
      "source": [
        "Decision Tree Regressor"
      ]
    },
    {
      "cell_type": "code",
      "execution_count": null,
      "metadata": {
        "colab": {
          "base_uri": "https://localhost:8080/"
        },
        "id": "vc1SjsgBBtZx",
        "outputId": "2eb394b3-206c-4eff-f5db-a159def77725"
      },
      "outputs": [
        {
          "output_type": "stream",
          "name": "stdout",
          "text": [
            "Độ chính xác của mô hình là: 0.5023753338496895\n"
          ]
        }
      ],
      "source": [
        "from sklearn.feature_extraction.text import TfidfVectorizer\n",
        "from sklearn.model_selection import train_test_split\n",
        "from sklearn.tree import DecisionTreeRegressor\n",
        "\n",
        "# Chuẩn bị dữ liệu văn bản\n",
        "X = df[['pc_brand', 'pc_model', 'elt_condition', 'laptop_screen_size', 'elt_warranty', 'pc_cpu', 'pc_vga', 'pc_ram', 'pc_drive_capacity']]\n",
        "y = df['price']\n",
        "\n",
        "# Chuyển đổi cột thành chuỗi duy nhất\n",
        "X_text = X.apply(lambda row: ' '.join(row.values.astype(str)), axis=1)\n",
        "\n",
        "# Chuyển đổi văn bản thành vectơ TF-IDF\n",
        "vectorizer = TfidfVectorizer()\n",
        "X_tfidf = vectorizer.fit_transform(X_text)\n",
        "\n",
        "# Chia tập train và tập test\n",
        "X_train, X_test, y_train, y_test = train_test_split(X_tfidf, y, test_size=0.3, random_state=42)\n",
        "\n",
        "# Xây dựng mô hình Decision Tree\n",
        "dt_model = DecisionTreeRegressor()\n",
        "\n",
        "# Huấn luyện mô hình\n",
        "dt_model.fit(X_train, y_train)\n",
        "\n",
        "# Đánh giá mô hình\n",
        "accuracy = dt_model.score(X_test, y_test)\n",
        "print(\"Độ chính xác của mô hình là:\", accuracy)"
      ]
    },
    {
      "cell_type": "markdown",
      "metadata": {
        "id": "NPp5OFLdyeFp"
      },
      "source": [
        "Random Forest Regressor"
      ]
    },
    {
      "cell_type": "code",
      "execution_count": null,
      "metadata": {
        "colab": {
          "base_uri": "https://localhost:8080/"
        },
        "id": "nSGgaU1ktzux",
        "outputId": "53737f88-3e60-4755-ba1d-c99d23569ada"
      },
      "outputs": [
        {
          "output_type": "stream",
          "name": "stdout",
          "text": [
            "Độ chính xác của mô hình là: 0.6690198231326057\n"
          ]
        }
      ],
      "source": [
        "# RandomForestRegressor\n",
        "from sklearn.feature_extraction.text import TfidfVectorizer\n",
        "from sklearn.model_selection import train_test_split\n",
        "from sklearn.ensemble import RandomForestRegressor\n",
        "\n",
        "# Chuẩn bị dữ liệu văn bản\n",
        "X = df[['pc_brand', 'pc_model', 'elt_condition', 'laptop_screen_size', 'elt_warranty', 'pc_cpu', 'pc_vga', 'pc_ram', 'pc_drive_capacity']]\n",
        "y = df['price']\n",
        "\n",
        "# Chuyển đổi cột thành chuỗi duy nhất\n",
        "X_text = X.apply(lambda row: ' '.join(row.values.astype(str)), axis=1)\n",
        "\n",
        "# Chuyển đổi văn bản thành vectơ TF-IDF\n",
        "vectorizer = TfidfVectorizer()\n",
        "X_tfidf = vectorizer.fit_transform(X_text)\n",
        "\n",
        "# Chia tập train và tập test\n",
        "X_train, X_test, y_train, y_test = train_test_split(X_tfidf, y, test_size=0.3, random_state=42)\n",
        "\n",
        "# Xây dựng mô hình RandomForestRegressor\n",
        "rf_model = RandomForestRegressor()\n",
        "\n",
        "# Huấn luyện mô hình\n",
        "rf_model.fit(X_train, y_train)\n",
        "\n",
        "# Đánh giá mô hình\n",
        "accuracy = rf_model.score(X_test, y_test)\n",
        "print(\"Độ chính xác của mô hình là:\", accuracy)"
      ]
    },
    {
      "cell_type": "code",
      "execution_count": null,
      "metadata": {
        "colab": {
          "base_uri": "https://localhost:8080/"
        },
        "id": "6_OxLVNQAa0M",
        "outputId": "dff0074c-6074-4179-cbff-8444afec03fe"
      },
      "outputs": [
        {
          "name": "stdout",
          "output_type": "stream",
          "text": [
            "Giá dự đoán cho các giá trị đầu vào là: [6014331.83143114]\n"
          ]
        }
      ],
      "source": [
        "# Dự đoán thử\n",
        "new_data = [['Dell', 'Latitude', 'Đã sử dụng (chưa sửa chữa)', '13 - 14.9 inch', '1 tháng', 'Intel Core i5', 'Onboard']]\n",
        "new_text = pd.DataFrame(new_data).apply(lambda row: ' '.join(row.values.astype(str)), axis=1)\n",
        "new_tfidf = vectorizer.transform(new_text)\n",
        "prediction = rf_model.predict(new_tfidf)\n",
        "\n",
        "print(\"Giá dự đoán cho các giá trị đầu vào là:\", prediction)"
      ]
    },
    {
      "cell_type": "markdown",
      "source": [
        "Không dùg Tfidf"
      ],
      "metadata": {
        "id": "LYoNKYC6Cq6j"
      }
    },
    {
      "cell_type": "code",
      "source": [
        "# RandomForest\n",
        "import pandas as pd\n",
        "from sklearn.model_selection import train_test_split\n",
        "from sklearn.ensemble import RandomForestRegressor\n",
        "from sklearn.metrics import r2_score\n",
        "from sklearn.preprocessing import LabelEncoder\n",
        "\n",
        "data=df\n",
        "\n",
        "# Chuyển đổi thuộc tính văn bản thành dạng số bằng LabelEncoder\n",
        "label_encoder = LabelEncoder()\n",
        "data['pc_brand'] = label_encoder.fit_transform(data['pc_brand'])\n",
        "data['pc_model'] = label_encoder.fit_transform(data['pc_model'])\n",
        "data['elt_condition'] = label_encoder.fit_transform(data['elt_condition'])\n",
        "data['laptop_screen_size'] = label_encoder.fit_transform(data['laptop_screen_size'])\n",
        "data['elt_warranty'] = label_encoder.fit_transform(data['elt_warranty'])\n",
        "data['pc_cpu'] = label_encoder.fit_transform(data['pc_cpu'])\n",
        "data['pc_vga'] = label_encoder.fit_transform(data['pc_vga'])\n",
        "\n",
        "# Tách thành features (đặc trưng) và target (giá)\n",
        "data = data.drop(['elt_origin'], axis=1)\n",
        "X = data.drop('price', axis=1)\n",
        "y = data['price']\n",
        "\n",
        "# Tách dữ liệu thành tập huấn luyện và tập kiểm tra\n",
        "X_train, X_test, y_train, y_test = train_test_split(X, y, test_size=0.3, random_state=42)\n",
        "\n",
        "\n",
        "# Huấn luyện mô hình Random Forest\n",
        "model = RandomForestRegressor()\n",
        "model.fit(X_train, y_train)\n",
        "\n",
        "# Dự đoán giá trên tập kiểm tra\n",
        "y_pred = model.predict(X_test)\n",
        "\n",
        "# Đánh giá hiệu suất mô hình\n",
        "r2 = r2_score(y_test, y_pred)\n",
        "\n",
        "print(f\"Coefficient of Determination (R^2): {r2}\")"
      ],
      "metadata": {
        "id": "1OiH7TXYCuW-",
        "colab": {
          "base_uri": "https://localhost:8080/"
        },
        "outputId": "c037bfad-f663-4731-e26c-547e1b054940"
      },
      "execution_count": null,
      "outputs": [
        {
          "output_type": "stream",
          "name": "stdout",
          "text": [
            "Coefficient of Determination (R^2): 0.6119957565849351\n"
          ]
        }
      ]
    },
    {
      "cell_type": "code",
      "source": [
        "# xgboost\n",
        "import pandas as pd\n",
        "from sklearn.model_selection import train_test_split\n",
        "import xgboost as xgb\n",
        "from sklearn.metrics import r2_score\n",
        "from sklearn.preprocessing import LabelEncoder\n",
        "\n",
        "data = df\n",
        "\n",
        "# Chuyển đổi thuộc tính văn bản thành dạng số bằng LabelEncoder\n",
        "label_encoder = LabelEncoder()\n",
        "data['pc_brand'] = label_encoder.fit_transform(data['pc_brand'])\n",
        "data['pc_model'] = label_encoder.fit_transform(data['pc_model'])\n",
        "data['elt_condition'] = label_encoder.fit_transform(data['elt_condition'])\n",
        "data['laptop_screen_size'] = label_encoder.fit_transform(data['laptop_screen_size'])\n",
        "data['elt_warranty'] = label_encoder.fit_transform(data['elt_warranty'])\n",
        "data['pc_cpu'] = label_encoder.fit_transform(data['pc_cpu'])\n",
        "data['pc_vga'] = label_encoder.fit_transform(data['pc_vga'])\n",
        "\n",
        "# Tách thành features (đặc trưng) và target (giá)\n",
        "data = data.drop(['elt_origin'], axis=1)\n",
        "X = data.drop('price', axis=1)\n",
        "y = data['price']\n",
        "\n",
        "# Tách dữ liệu thành tập huấn luyện và tập kiểm tra\n",
        "X_train, X_test, y_train, y_test = train_test_split(X, y, test_size=0.3, random_state=42)\n",
        "\n",
        "# Huấn luyện mô hình XGBoost\n",
        "model = xgb.XGBRegressor()\n",
        "model.fit(X_train, y_train)\n",
        "\n",
        "# Dự đoán giá trên tập kiểm tra\n",
        "y_pred = model.predict(X_test)\n",
        "\n",
        "# Đánh giá hiệu suất mô hình\n",
        "r2 = r2_score(y_test, y_pred)\n",
        "\n",
        "print(f\"Coefficient of Determination (R^2): {r2}\")"
      ],
      "metadata": {
        "id": "Cel-aUhkMlgJ",
        "colab": {
          "base_uri": "https://localhost:8080/"
        },
        "outputId": "31921651-aaea-4c1b-fa54-c1777630f2af"
      },
      "execution_count": null,
      "outputs": [
        {
          "output_type": "stream",
          "name": "stdout",
          "text": [
            "Coefficient of Determination (R^2): 0.6929480426478298\n"
          ]
        }
      ]
    },
    {
      "cell_type": "code",
      "source": [
        "# DecisionTree\n",
        "import pandas as pd\n",
        "from sklearn.model_selection import train_test_split\n",
        "from sklearn.tree import DecisionTreeRegressor\n",
        "from sklearn.metrics import r2_score\n",
        "from sklearn.preprocessing import LabelEncoder\n",
        "\n",
        "data = df\n",
        "\n",
        "# Tiền xử lý dữ liệu\n",
        "# Chuyển đổi thuộc tính văn bản thành dạng số bằng LabelEncoder\n",
        "label_encoder = LabelEncoder()\n",
        "data['pc_brand'] = label_encoder.fit_transform(data['pc_brand'])\n",
        "data['pc_model'] = label_encoder.fit_transform(data['pc_model'])\n",
        "data['elt_condition'] = label_encoder.fit_transform(data['elt_condition'])\n",
        "data['laptop_screen_size'] = label_encoder.fit_transform(data['laptop_screen_size'])\n",
        "data['elt_warranty'] = label_encoder.fit_transform(data['elt_warranty'])\n",
        "data['pc_cpu'] = label_encoder.fit_transform(data['pc_cpu'])\n",
        "data['pc_vga'] = label_encoder.fit_transform(data['pc_vga'])\n",
        "\n",
        "# Tách thành features (đặc trưng) và target (giá)\n",
        "data = data.drop(['elt_origin'], axis=1)\n",
        "X = data.drop('price', axis=1)\n",
        "y = data['price']\n",
        "\n",
        "# Tách dữ liệu thành tập huấn luyện và tập kiểm tra\n",
        "X_train, X_test, y_train, y_test = train_test_split(X, y, test_size=0.3, random_state=42)\n",
        "\n",
        "# Huấn luyện mô hình Decision Tree\n",
        "model = DecisionTreeRegressor()\n",
        "model.fit(X_train, y_train)\n",
        "\n",
        "# Dự đoán giá trên tập kiểm tra\n",
        "y_pred = model.predict(X_test)\n",
        "\n",
        "# Đánh giá hiệu suất mô hình\n",
        "r2 = r2_score(y_test, y_pred)\n",
        "\n",
        "print(f\"Coefficient of Determination (R^2): {r2}\")"
      ],
      "metadata": {
        "id": "muvfs820MybF",
        "colab": {
          "base_uri": "https://localhost:8080/"
        },
        "outputId": "5c6a4162-fe5c-43ba-f36a-0e5d0f450842"
      },
      "execution_count": null,
      "outputs": [
        {
          "output_type": "stream",
          "name": "stdout",
          "text": [
            "Coefficient of Determination (R^2): 0.22565697580777289\n"
          ]
        }
      ]
    },
    {
      "cell_type": "code",
      "source": [
        "# KNN\n",
        "import pandas as pd\n",
        "from sklearn.model_selection import train_test_split\n",
        "from sklearn.neighbors import KNeighborsRegressor\n",
        "from sklearn.metrics import r2_score\n",
        "from sklearn.preprocessing import LabelEncoder\n",
        "\n",
        "data = df\n",
        "\n",
        "# Chuyển đổi thuộc tính văn bản thành dạng số bằng LabelEncoder\n",
        "label_encoder = LabelEncoder()\n",
        "data['pc_brand'] = label_encoder.fit_transform(data['pc_brand'])\n",
        "data['pc_model'] = label_encoder.fit_transform(data['pc_model'])\n",
        "data['elt_condition'] = label_encoder.fit_transform(data['elt_condition'])\n",
        "data['laptop_screen_size'] = label_encoder.fit_transform(data['laptop_screen_size'])\n",
        "data['elt_warranty'] = label_encoder.fit_transform(data['elt_warranty'])\n",
        "data['pc_cpu'] = label_encoder.fit_transform(data['pc_cpu'])\n",
        "data['pc_vga'] = label_encoder.fit_transform(data['pc_vga'])\n",
        "\n",
        "# Tách thành features (đặc trưng) và target (giá)\n",
        "data = data.drop(['elt_origin'], axis=1)\n",
        "X = data.drop('price', axis=1)\n",
        "y = data['price']\n",
        "\n",
        "# Tách dữ liệu thành tập huấn luyện và tập kiểm tra\n",
        "X_train, X_test, y_train, y_test = train_test_split(X, y, test_size=0.3, random_state=42)\n",
        "\n",
        "# Huấn luyện mô hình K-Nearest Neighbors\n",
        "model = KNeighborsRegressor()\n",
        "model.fit(X_train, y_train)\n",
        "\n",
        "# Dự đoán giá trên tập kiểm tra\n",
        "y_pred = model.predict(X_test)\n",
        "\n",
        "# Đánh giá hiệu suất mô hình\n",
        "r2 = r2_score(y_test, y_pred)\n",
        "\n",
        "print(f\"Coefficient of Determination (R^2): {r2}\")"
      ],
      "metadata": {
        "id": "Njkz3H1pNHgy",
        "colab": {
          "base_uri": "https://localhost:8080/"
        },
        "outputId": "88955f1f-1dca-4363-e105-e7d52c597716"
      },
      "execution_count": null,
      "outputs": [
        {
          "output_type": "stream",
          "name": "stdout",
          "text": [
            "Coefficient of Determination (R^2): 0.523054928993286\n"
          ]
        }
      ]
    }
  ],
  "metadata": {
    "colab": {
      "provenance": []
    },
    "kernelspec": {
      "display_name": "Python 3",
      "name": "python3"
    },
    "language_info": {
      "name": "python"
    }
  },
  "nbformat": 4,
  "nbformat_minor": 0
}